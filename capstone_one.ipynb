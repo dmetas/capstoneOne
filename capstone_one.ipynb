{
 "cells": [
  {
   "cell_type": "code",
   "execution_count": 73,
   "metadata": {},
   "outputs": [],
   "source": [
    "import pandas as pd\n",
    "import numpy as np\n",
    "import matplotlib.pyplot as plt\n",
    "import seaborn as sns"
   ]
  },
  {
   "cell_type": "code",
   "execution_count": 74,
   "metadata": {},
   "outputs": [],
   "source": [
    "def ecdf(data):\n",
    "    n = len(data)\n",
    "    x = np.sort(data)\n",
    "    y = np.arange(1, n+1)/n\n",
    "    return x,y"
   ]
  },
  {
   "cell_type": "code",
   "execution_count": 75,
   "metadata": {},
   "outputs": [],
   "source": [
    "dfSF = pd.read_csv('Film_Locations_in_San_Francisco.csv')\n",
    "dfSF = dfSF.replace(\"NaN\", np.nan)"
   ]
  },
  {
   "cell_type": "code",
   "execution_count": 76,
   "metadata": {},
   "outputs": [
    {
     "name": "stderr",
     "output_type": "stream",
     "text": [
      "/Users/Dylan/miniconda3/lib/python3.6/site-packages/IPython/core/interactiveshell.py:2785: DtypeWarning: Columns (4,5) have mixed types. Specify dtype option on import or set low_memory=False.\n",
      "  interactivity=interactivity, compiler=compiler, result=result)\n"
     ]
    }
   ],
   "source": [
    "dftitles = pd.read_csv(\"title_basics.tsv\", delimiter='\\t')"
   ]
  },
  {
   "cell_type": "code",
   "execution_count": 77,
   "metadata": {},
   "outputs": [],
   "source": [
    "dfratings = pd.read_csv(\"title.ratings.tsv\", delimiter = \"\\t\")"
   ]
  },
  {
   "cell_type": "code",
   "execution_count": 78,
   "metadata": {},
   "outputs": [],
   "source": [
    "dfimdb = dfratings.merge(dftitles, left_on='tconst', right_on='tconst')\n",
    "dfimdb = dfimdb.replace('\\\\N', np.nan)"
   ]
  },
  {
   "cell_type": "code",
   "execution_count": 79,
   "metadata": {},
   "outputs": [],
   "source": [
    "dfimdb[\"startYear\"] = dfimdb[\"startYear\"].astype(str)\n",
    "dfSF[\"Release Year\"] = dfSF[\"Release Year\"].astype(str)\n",
    "dfimdb['primaryTitle'] = dfimdb[\"primaryTitle\"].str.lower()\n",
    "dfSF['Title'] = dfSF[\"Title\"].str.lower()\n",
    "df_imdb_sf = dfSF.merge(dfimdb, left_on = ['Title','Release Year'], right_on = ['primaryTitle','startYear'])"
   ]
  },
  {
   "cell_type": "code",
   "execution_count": 80,
   "metadata": {},
   "outputs": [
    {
     "name": "stdout",
     "output_type": "stream",
     "text": [
      "[looking]                           36\n",
      "[blue jasmine]                      28\n",
      "[the dead pool]                     25\n",
      "[sense8]                            23\n",
      "[san andreas]                       21\n",
      "[girlboss]                          21\n",
      "[pushing dead]                      20\n",
      "[bullitt]                           19\n",
      "[foul play]                         18\n",
      "[quitters]                          15\n",
      "[the diary of a teenage girl]       15\n",
      "[when we rise]                      14\n",
      "[godzilla]                          14\n",
      "[time after time]                   13\n",
      "[summertime]                        13\n",
      "[ant-man]                           12\n",
      "[steve jobs]                        11\n",
      "[so i married an axe murderer]      11\n",
      "[nine months]                       11\n",
      "[birth of the dragon]               10\n",
      "[invasion of the body snatchers]     9\n",
      "[red widow]                          9\n",
      "[vertigo]                            9\n",
      "[big eyes]                           9\n",
      "[experiment in terror]               9\n",
      "[the game]                           8\n",
      "[twisted]                            8\n",
      "[basic instinct]                     8\n",
      "[the presidio]                       8\n",
      "[star trek iv: the voyage home]      8\n",
      "Name: Title, dtype: int64\n"
     ]
    }
   ],
   "source": [
    "by_location = df_imdb_sf.groupby([\"Locations\"])\n",
    "titles_in_location = by_location[\"Title\"].unique().value_counts()\n",
    "print(titles_in_location.sort_values(ascending= False).head(30))\n",
    "    "
   ]
  },
  {
   "cell_type": "code",
   "execution_count": 105,
   "metadata": {},
   "outputs": [
    {
     "name": "stdout",
     "output_type": "stream",
     "text": [
      "How the data was cleaned: The blank or missing data was replaced with NaN (IMDB uses N as missing values by default while the SFdatabase uses NaN as a default) so that it would be easy to work with later on. to ensure that the correct title was matched up I linked merged the data frames on title and the release year. Due to this is a voted raating data system I dont feel comfertable at this time discarding anything as an outlier. Later I might decide to remove titles that have few votes as they may be the outliers to watch for.\n"
     ]
    }
   ],
   "source": [
    "print(\"How the data was cleaned: The blank or missing data was replaced with NaN (IMDB uses N as missing values by default while the SFdatabase uses NaN as a default) so that it would be easy to work with later on. to ensure that the correct title was matched up I linked merged the data frames on title and the release year. Due to this is a voted raating data system I dont feel comfertable at this time discarding anything as an outlier. Later I might decide to remove titles that have few votes as they may be the outliers to watch for.\")"
   ]
  },
  {
   "cell_type": "code",
   "execution_count": null,
   "metadata": {},
   "outputs": [],
   "source": []
  },
  {
   "cell_type": "code",
   "execution_count": 11,
   "metadata": {},
   "outputs": [
    {
     "data": {
      "text/plain": [
       "1226"
      ]
     },
     "execution_count": 11,
     "metadata": {},
     "output_type": "execute_result"
    }
   ],
   "source": [
    "dfSF[\"Locations\"].unique().size"
   ]
  },
  {
   "cell_type": "code",
   "execution_count": 82,
   "metadata": {},
   "outputs": [
    {
     "data": {
      "text/plain": [
       "5172247"
      ]
     },
     "execution_count": 82,
     "metadata": {},
     "output_type": "execute_result"
    }
   ],
   "source": [
    "dftitles[\"primaryTitle\"].count()"
   ]
  },
  {
   "cell_type": "code",
   "execution_count": 83,
   "metadata": {},
   "outputs": [
    {
     "data": {
      "text/plain": [
       "847665"
      ]
     },
     "execution_count": 83,
     "metadata": {},
     "output_type": "execute_result"
    }
   ],
   "source": [
    "dfratings[\"averageRating\"].count()"
   ]
  },
  {
   "cell_type": "code",
   "execution_count": 84,
   "metadata": {},
   "outputs": [
    {
     "name": "stdout",
     "output_type": "stream",
     "text": [
      "0                                                 Carmencita\n",
      "1                                     Le clown et ses chiens\n",
      "2                                             Pauvre Pierrot\n",
      "3                                                Un bon bock\n",
      "4                                           Blacksmith Scene\n",
      "5                                          Chinese Opium Den\n",
      "6                Corbett and Courtney Before the Kinetograph\n",
      "7                     Edison Kinetoscopic Record of a Sneeze\n",
      "8                                                 Miss Jerry\n",
      "9                      Employees Leaving the Lumière Factory\n",
      "10                                   Akrobatisches Potpourri\n",
      "11                                    The Arrival of a Train\n",
      "12               The Photographical Congress Arrives in Lyon\n",
      "13                             Tables Turned on the Gardener\n",
      "14                                       Autour d'une cabine\n",
      "15                                    Barque sortant du port\n",
      "16                                  Italienischer Bauerntanz\n",
      "17                                      Das boxende Känguruh\n",
      "18                                          The Clown Barber\n",
      "19                                            The Derby 1895\n",
      "20                                          Blacksmith Scene\n",
      "21                                                   The Sea\n",
      "22                                 Opening of the Kiel Canal\n",
      "23             The Oxford and Cambridge University Boat Race\n",
      "24                             The Messers. Lumière at Cards\n",
      "25                                Cordeliers' Square in Lyon\n",
      "26                                      Fishing for Goldfish\n",
      "27                                             Baby's Dinner\n",
      "28                                        Rough Sea at Dover\n",
      "29                                       Jumping the Blanket\n",
      "                                 ...                        \n",
      "5172223                   Air Mail Mystery: Episodes 1 and 2\n",
      "5172224                           Episode dated 20 July 1969\n",
      "5172225                 Chapter 4: Best Worst Entourage Ever\n",
      "5172226                                      Episode #14.166\n",
      "5172227                                      Episode #14.167\n",
      "5172228                                      Episode #14.168\n",
      "5172229                                      Episode #14.169\n",
      "5172230                                      Episode #14.170\n",
      "5172231    GOP Congressman Calls the Poor 'Parasites' & '...\n",
      "5172232                                            Processed\n",
      "5172233                   Chapter 5: Best Worst Friends Ever\n",
      "5172234                                       Episode #6.166\n",
      "5172235                                       Episode #6.167\n",
      "5172236                                       Episode #6.168\n",
      "5172237                                       Episode #6.169\n",
      "5172238                                       Episode #6.170\n",
      "5172239                           Naked and Afraid of Sharks\n",
      "5172240                                           The Return\n",
      "5172241                                 Iran Is on the Brink\n",
      "5172242                                        Para Mi Madre\n",
      "5172243                      Untitled Emmeline Wells Project\n",
      "5172244                          Episode dated 25 April 1979\n",
      "5172245                                       Alone Together\n",
      "5172246                      A Mysterious Visitor From Above\n",
      "5172247                                      Episode #1.2386\n",
      "5172248                                      Episode #1.2389\n",
      "5172249                                      Episode #1.2390\n",
      "5172250                                      Episode #1.2397\n",
      "5172251                                      Episode #1.2393\n",
      "5172252                                  Jäkelskap i kikar'n\n",
      "Name: primaryTitle, Length: 5172253, dtype: object\n"
     ]
    }
   ],
   "source": [
    "print(dftitles.primaryTitle)"
   ]
  },
  {
   "cell_type": "code",
   "execution_count": 85,
   "metadata": {},
   "outputs": [
    {
     "name": "stdout",
     "output_type": "stream",
     "text": [
      "           tconst  averageRating  numVotes\n",
      "0       tt0000001            5.8      1385\n",
      "1       tt0000002            6.5       162\n",
      "2       tt0000003            6.6       972\n",
      "3       tt0000004            6.4        98\n",
      "4       tt0000005            6.2      1667\n",
      "5       tt0000006            5.6        86\n",
      "6       tt0000007            5.5       561\n",
      "7       tt0000008            5.6      1489\n",
      "8       tt0000009            5.5        66\n",
      "9       tt0000010            6.9      4980\n",
      "10      tt0000011            5.4       204\n",
      "11      tt0000012            7.4      8302\n",
      "12      tt0000013            5.7      1269\n",
      "13      tt0000014            7.2      3623\n",
      "14      tt0000015            6.2       625\n",
      "15      tt0000016            5.9       938\n",
      "16      tt0000017            4.8       190\n",
      "17      tt0000018            5.5       402\n",
      "18      tt0000019            6.6        13\n",
      "19      tt0000020            5.0       224\n",
      "20      tt0000022            5.1       719\n",
      "21      tt0000023            5.7       896\n",
      "22      tt0000024            5.8        19\n",
      "23      tt0000025            4.8        18\n",
      "24      tt0000026            5.7      1107\n",
      "25      tt0000027            5.6       747\n",
      "26      tt0000028            5.2       684\n",
      "27      tt0000029            5.9      2381\n",
      "28      tt0000030            5.3       573\n",
      "29      tt0000031            5.6       666\n",
      "...           ...            ...       ...\n",
      "847635  tt8628448            9.6         5\n",
      "847636  tt8628470            9.4         8\n",
      "847637  tt8628492            5.3         6\n",
      "847638  tt8628654            8.5         6\n",
      "847639  tt8628708            9.0         6\n",
      "847640  tt8629308            8.9         7\n",
      "847641  tt8632718            8.2         6\n",
      "847642  tt8632994            9.9         9\n",
      "847643  tt8633370            9.4        10\n",
      "847644  tt8633486            8.9         8\n",
      "847645  tt8634328            8.2         5\n",
      "847646  tt8634664            7.1        12\n",
      "847647  tt8636062            7.8         8\n",
      "847648  tt8637078            7.2         5\n",
      "847649  tt8637548            7.5        24\n",
      "847650  tt8637574            7.7        22\n",
      "847651  tt8638028            9.0         5\n",
      "847652  tt8638420            8.9        12\n",
      "847653  tt8640620           10.0         6\n",
      "847654  tt8641686            8.8         5\n",
      "847655  tt8641798            9.6         5\n",
      "847656  tt8643968           10.0         5\n",
      "847657  tt8644126            9.2        38\n",
      "847658  tt8644196            7.0        33\n",
      "847659  tt8644436            7.2         5\n",
      "847660  tt8646234            8.3         9\n",
      "847661  tt8650046            9.0         5\n",
      "847662  tt8653002            5.2        10\n",
      "847663  tt8653344           10.0         6\n",
      "847664  tt8655708            2.8        12\n",
      "\n",
      "[847665 rows x 3 columns]\n"
     ]
    }
   ],
   "source": [
    "print(dfratings)"
   ]
  },
  {
   "cell_type": "code",
   "execution_count": 86,
   "metadata": {},
   "outputs": [
    {
     "data": {
      "text/html": [
       "<div>\n",
       "<style scoped>\n",
       "    .dataframe tbody tr th:only-of-type {\n",
       "        vertical-align: middle;\n",
       "    }\n",
       "\n",
       "    .dataframe tbody tr th {\n",
       "        vertical-align: top;\n",
       "    }\n",
       "\n",
       "    .dataframe thead th {\n",
       "        text-align: right;\n",
       "    }\n",
       "</style>\n",
       "<table border=\"1\" class=\"dataframe\">\n",
       "  <thead>\n",
       "    <tr style=\"text-align: right;\">\n",
       "      <th></th>\n",
       "      <th>tconst</th>\n",
       "      <th>averageRating</th>\n",
       "      <th>numVotes</th>\n",
       "      <th>titleType</th>\n",
       "      <th>primaryTitle</th>\n",
       "      <th>originalTitle</th>\n",
       "      <th>isAdult</th>\n",
       "      <th>startYear</th>\n",
       "      <th>endYear</th>\n",
       "      <th>runtimeMinutes</th>\n",
       "      <th>genres</th>\n",
       "    </tr>\n",
       "  </thead>\n",
       "  <tbody>\n",
       "  </tbody>\n",
       "</table>\n",
       "</div>"
      ],
      "text/plain": [
       "Empty DataFrame\n",
       "Columns: [tconst, averageRating, numVotes, titleType, primaryTitle, originalTitle, isAdult, startYear, endYear, runtimeMinutes, genres]\n",
       "Index: []"
      ]
     },
     "execution_count": 86,
     "metadata": {},
     "output_type": "execute_result"
    }
   ],
   "source": [
    "dfimdb.loc[dfimdb['primaryTitle'] == \"Lawrence of Arabia\"]"
   ]
  },
  {
   "cell_type": "code",
   "execution_count": 87,
   "metadata": {},
   "outputs": [
    {
     "name": "stdout",
     "output_type": "stream",
     "text": [
      "genres\n",
      "Drama,News,Sci-Fi                9.900000\n",
      "Adventure,Musical,Sci-Fi         9.800000\n",
      "Family,Reality-TV,Talk-Show      9.722222\n",
      "News,Reality-TV,Short            9.700000\n",
      "Documentary,Musical,Thriller     9.600000\n",
      "Comedy,Game-Show,Musical         9.420000\n",
      "Biography,Crime,Reality-TV       9.250000\n",
      "Biography,Family,Short           9.200000\n",
      "Music,War                        9.200000\n",
      "Music,News,Short                 9.200000\n",
      "Family,Music,News                9.100000\n",
      "Game-Show,History,Music          9.100000\n",
      "Horror,News                      9.100000\n",
      "Fantasy,Game-Show,Reality-TV     9.100000\n",
      "History,Horror,Musical           9.000000\n",
      "Family,News,Reality-TV           9.000000\n",
      "Mystery,Sci-Fi,Talk-Show         9.000000\n",
      "Documentary,Sport,Western        9.000000\n",
      "History,Mystery,Thriller         8.872727\n",
      "Musical,Romance,Sci-Fi           8.850000\n",
      "Documentary,Reality-TV,Sport     8.832877\n",
      "Biography,News,Talk-Show         8.814286\n",
      "Family,Fantasy,History           8.800000\n",
      "Family,History,News              8.800000\n",
      "Family,News,Short                8.800000\n",
      "History,Mystery,News             8.800000\n",
      "Crime,Music,Musical              8.800000\n",
      "Documentary,News,Reality-TV      8.777778\n",
      "History,Romance,Short            8.750000\n",
      "History,News                     8.740000\n",
      "                                   ...   \n",
      "Fantasy,Sci-Fi,Talk-Show         8.500000\n",
      "Biography,Family,Mystery         8.500000\n",
      "Family,Music,Western             8.500000\n",
      "Family,Reality-TV,Short          8.500000\n",
      "Fantasy,Talk-Show                8.500000\n",
      "Short,Thriller,War               8.475000\n",
      "Animation,Fantasy,Western        8.442857\n",
      "History,Short,Thriller           8.433333\n",
      "Fantasy,History,Sci-Fi           8.412500\n",
      "Action,Animation,War             8.400000\n",
      "Documentary,Fantasy,Mystery      8.400000\n",
      "Action,Family,Music              8.400000\n",
      "Adventure,Horror,Music           8.400000\n",
      "Comedy,Mystery,Sport             8.400000\n",
      "Action,Music,Mystery             8.400000\n",
      "Game-Show,Mystery,Reality-TV     8.400000\n",
      "Drama,Sport,Western              8.397143\n",
      "Animation,Comedy,Sport           8.347664\n",
      "Comedy,Fantasy,Music             8.339487\n",
      "Adventure,Documentary,Mystery    8.339423\n",
      "History,Horror,Romance           8.300000\n",
      "Crime,Musical,Short              8.300000\n",
      "Biography,Mystery                8.300000\n",
      "Documentary,Musical,Mystery      8.300000\n",
      "Animation,Documentary,Mystery    8.300000\n",
      "Documentary,Reality-TV,War       8.300000\n",
      "Biography,Thriller,Western       8.300000\n",
      "Documentary,Drama,Thriller       8.266667\n",
      "Music,Mystery,Romance            8.250000\n",
      "Musical,Mystery,Short            8.220000\n",
      "Name: averageRating, Length: 75, dtype: float64\n"
     ]
    }
   ],
   "source": [
    "imdb_average_ratings = dfimdb.groupby([\"genres\"])[\"averageRating\"].mean()\n",
    "print(imdb_average_ratings.sort_values(ascending= False).head(75))\n",
    "    "
   ]
  },
  {
   "cell_type": "code",
   "execution_count": 88,
   "metadata": {},
   "outputs": [
    {
     "name": "stdout",
     "output_type": "stream",
     "text": [
      "genres\n",
      "Drama,Mystery,Sci-Fi             8.40\n",
      "Mystery,Romance,Thriller         8.30\n",
      "Action,Adventure,Fantasy         8.20\n",
      "Drama,Family                     8.20\n",
      "Biography,Documentary,History    8.20\n",
      "Film-Noir,Mystery                8.10\n",
      "Animation,Family,Fantasy         8.00\n",
      "Adventure,Biography,Drama        7.90\n",
      "Drama,Thriller,Western           7.90\n",
      "Adventure,Drama                  7.90\n",
      "Drama,War                        7.80\n",
      "Documentary,Talk-Show            7.75\n",
      "Comedy,Talk-Show                 7.74\n",
      "Crime,Drama,History              7.70\n",
      "Reality-TV,Sport                 7.70\n",
      "Film-Noir,Thriller               7.60\n",
      "Documentary,Reality-TV           7.60\n",
      "Drama,Short                      7.52\n",
      "Comedy,Crime,Mystery             7.50\n",
      "Comedy,Drama,Romance             7.40\n",
      "Fantasy,Short                    7.40\n",
      "Crime,Thriller                   7.40\n",
      "Biography,Drama                  7.39\n",
      "Crime,Drama,Film-Noir            7.38\n",
      "Drama,Mystery,Thriller           7.35\n",
      "Action,Crime,Drama               7.32\n",
      "Documentary,History              7.30\n",
      "Adventure,Comedy,Sci-Fi          7.30\n",
      "Crime,Mystery,Thriller           7.30\n",
      "Drama,Romance,Sci-Fi             7.30\n",
      "                                 ... \n",
      "Comedy,Romance                   6.00\n",
      "Adult,Thriller                   6.00\n",
      "Crime,Drama,Mystery              6.00\n",
      "Comedy,Fantasy                   6.00\n",
      "Comedy,Crime                     5.99\n",
      "Crime,Drama,Thriller             5.97\n",
      "Biography,Drama,Romance          5.95\n",
      "Comedy,Drama,Family              5.93\n",
      "Adventure,Comedy,Family          5.90\n",
      "Documentary                      5.86\n",
      "Action,Drama,Sport               5.80\n",
      "Horror,Short                     5.80\n",
      "Crime,Drama,Romance              5.80\n",
      "Crime,Drama,Horror               5.70\n",
      "Action                           5.70\n",
      "Documentary,Short                5.52\n",
      "Comedy,Family,Music              5.50\n",
      "Action,Biography,Drama           5.30\n",
      "Comedy,Family,Fantasy            5.21\n",
      "Comedy,Family,Sci-Fi             5.20\n",
      "Adventure,Comedy,Crime           5.10\n",
      "Romance                          5.03\n",
      "Comedy,Short                     5.02\n",
      "Comedy,Crime,Family              4.85\n",
      "Comedy,Romance,Sci-Fi            4.76\n",
      "Comedy,Family                    4.53\n",
      "Biography,Comedy,Musical         4.50\n",
      "Documentary,Horror               4.10\n",
      "Action,Sci-Fi,Sport              3.00\n",
      "Romance,Sci-Fi                   1.80\n",
      "Name: averageRating, Length: 117, dtype: float64\n"
     ]
    }
   ],
   "source": [
    "sf_average_ratings = df_imdb_sf.groupby([\"genres\"])[\"averageRating\"].mean().round(2)\n",
    "sf_average_ratings.sort_values(ascending= False, inplace=True)\n",
    "print(sf_average_ratings)\n"
   ]
  },
  {
   "cell_type": "code",
   "execution_count": 89,
   "metadata": {},
   "outputs": [],
   "source": [
    "sf_start_year = df_imdb_sf[\"titleType\"]"
   ]
  },
  {
   "cell_type": "code",
   "execution_count": 139,
   "metadata": {
    "scrolled": false
   },
   "outputs": [
    {
     "data": {
      "image/png": "[encoded data removed]",
      "text/plain": [
       "<Figure size 432x288 with 1 Axes>"
      ]
     },
     "metadata": {},
     "output_type": "display_data"
    }
   ],
   "source": [
    "sns.swarmplot(x=\"titleType\", y='averageRating', data = df_imdb_sf)\n",
    "plt.xticks(rotation=45)\n",
    "plt.show()"
   ]
  },
  {
   "cell_type": "code",
   "execution_count": 91,
   "metadata": {},
   "outputs": [
    {
     "data": {
      "image/png": "[encoded data removed]",
      "text/plain": [
       "<Figure size 432x288 with 1 Axes>"
      ]
     },
     "metadata": {},
     "output_type": "display_data"
    }
   ],
   "source": [
    "_ = plt.boxplot(dfimdb[\"averageRating\"])\n",
    "plt.xlabel('All Films')\n",
    "plt.ylabel(\"Average Rating\")\n",
    "plt.show()"
   ]
  },
  {
   "cell_type": "code",
   "execution_count": 92,
   "metadata": {},
   "outputs": [
    {
     "name": "stdout",
     "output_type": "stream",
     "text": [
      "6.2\n",
      "6.929063902833243\n",
      "7.9\n"
     ]
    }
   ],
   "source": [
    "print(np.percentile(dfimdb[\"averageRating\"], 25))\n",
    "print(np.mean(dfimdb[\"averageRating\"]))\n",
    "print(np.percentile(dfimdb[\"averageRating\"], 75))"
   ]
  },
  {
   "cell_type": "code",
   "execution_count": 93,
   "metadata": {},
   "outputs": [
    {
     "data": {
      "image/png": "[encoded data removed]",
      "text/plain": [
       "<Figure size 432x288 with 1 Axes>"
      ]
     },
     "metadata": {},
     "output_type": "display_data"
    }
   ],
   "source": [
    "_ = plt.boxplot(df_imdb_sf[\"averageRating\"])\n",
    "plt.xlabel(\"Filmed in SF\")\n",
    "plt.ylabel(\"Average Rating\")\n",
    "plt.show()"
   ]
  },
  {
   "cell_type": "code",
   "execution_count": 94,
   "metadata": {},
   "outputs": [
    {
     "name": "stdout",
     "output_type": "stream",
     "text": [
      "6.1\n",
      "6.704567474048443\n",
      "7.4\n"
     ]
    }
   ],
   "source": [
    "print(np.percentile(df_imdb_sf[\"averageRating\"], 25))\n",
    "print(np.mean(df_imdb_sf[\"averageRating\"]))\n",
    "print(np.percentile(df_imdb_sf[\"averageRating\"], 75))"
   ]
  },
  {
   "cell_type": "code",
   "execution_count": 95,
   "metadata": {},
   "outputs": [
    {
     "data": {
      "image/png": "[encoded data removed]",
      "text/plain": [
       "<Figure size 432x288 with 1 Axes>"
      ]
     },
     "metadata": {},
     "output_type": "display_data"
    }
   ],
   "source": [
    "sf_x, sf_y = ecdf(df_imdb_sf[\"averageRating\"])\n",
    "imdb_x, imdb_y = ecdf(dfimdb[\"averageRating\"])\n",
    "_ = plt.plot(sf_x, sf_y, marker = \".\", linestyle = \"none\")\n",
    "_ = plt.plot(imdb_x, imdb_y, marker = '.', linestyle = \"none\")\n",
    "_ = plt.xlabel(\"Average Rating\")\n",
    "_ = plt.ylabel(\"ecdf\")\n",
    "_ = plt.title(\"Film Average Ratings\")\n",
    "plt.legend((\"SF Film Locations\", \"Not Filmed in SF\"), loc = \"lower right\")\n",
    "plt.show()"
   ]
  },
  {
   "cell_type": "code",
   "execution_count": 96,
   "metadata": {},
   "outputs": [
    {
     "data": {
      "image/png": "[encoded data removed]",
      "text/plain": [
       "<Figure size 432x288 with 1 Axes>"
      ]
     },
     "metadata": {},
     "output_type": "display_data"
    }
   ],
   "source": [
    "sns.distplot(df_imdb_sf[\"averageRating\"])\n",
    "plt.xlabel(\"Average Rating\")\n",
    "plt.title(\"SF Film Locations\")\n",
    "plt.show()"
   ]
  },
  {
   "cell_type": "code",
   "execution_count": 97,
   "metadata": {},
   "outputs": [
    {
     "data": {
      "image/png": "[encoded data removed]",
      "text/plain": [
       "<Figure size 432x288 with 1 Axes>"
      ]
     },
     "metadata": {},
     "output_type": "display_data"
    }
   ],
   "source": [
    "sns.distplot(dfimdb[\"averageRating\"])\n",
    "plt.xlabel(\"Average Rating\")\n",
    "plt.title(\"Non SF Film Locations\")\n",
    "plt.show()"
   ]
  },
  {
   "cell_type": "code",
   "execution_count": 112,
   "metadata": {},
   "outputs": [
    {
     "data": {
      "image/png": "[encoded data removed]",
      "text/plain": [
       "<Figure size 432x288 with 1 Axes>"
      ]
     },
     "metadata": {},
     "output_type": "display_data"
    }
   ],
   "source": [
    "plt.scatter(sf_average_ratings.index, sf_average_ratings)\n",
    "plt.show()"
   ]
  },
  {
   "cell_type": "code",
   "execution_count": 125,
   "metadata": {},
   "outputs": [
    {
     "data": {
      "text/plain": [
       "8"
      ]
     },
     "execution_count": 125,
     "metadata": {},
     "output_type": "execute_result"
    }
   ],
   "source": [
    "df_imdb_sf[\"titleType\"].unique().size"
   ]
  },
  {
   "cell_type": "code",
   "execution_count": 109,
   "metadata": {},
   "outputs": [
    {
     "data": {
      "text/html": [
       "<div>\n",
       "<style scoped>\n",
       "    .dataframe tbody tr th:only-of-type {\n",
       "        vertical-align: middle;\n",
       "    }\n",
       "\n",
       "    .dataframe tbody tr th {\n",
       "        vertical-align: top;\n",
       "    }\n",
       "\n",
       "    .dataframe thead th {\n",
       "        text-align: right;\n",
       "    }\n",
       "</style>\n",
       "<table border=\"1\" class=\"dataframe\">\n",
       "  <thead>\n",
       "    <tr style=\"text-align: right;\">\n",
       "      <th></th>\n",
       "      <th>averageRating</th>\n",
       "      <th>numVotes</th>\n",
       "    </tr>\n",
       "  </thead>\n",
       "  <tbody>\n",
       "    <tr>\n",
       "      <th>averageRating</th>\n",
       "      <td>1.000000</td>\n",
       "      <td>0.238516</td>\n",
       "    </tr>\n",
       "    <tr>\n",
       "      <th>numVotes</th>\n",
       "      <td>0.238516</td>\n",
       "      <td>1.000000</td>\n",
       "    </tr>\n",
       "  </tbody>\n",
       "</table>\n",
       "</div>"
      ],
      "text/plain": [
       "               averageRating  numVotes\n",
       "averageRating       1.000000  0.238516\n",
       "numVotes            0.238516  1.000000"
      ]
     },
     "execution_count": 109,
     "metadata": {},
     "output_type": "execute_result"
    }
   ],
   "source": [
    "df_imdb_sf.corr()"
   ]
  },
  {
   "cell_type": "code",
   "execution_count": 138,
   "metadata": {},
   "outputs": [
    {
     "data": {
      "image/png": "[encoded data removed]",
      "text/plain": [
       "<Figure size 432x288 with 1 Axes>"
      ]
     },
     "metadata": {},
     "output_type": "display_data"
    }
   ],
   "source": [
    "plt.scatter(df_imdb_sf[\"numVotes\"], df_imdb_sf[\"averageRating\"])\n",
    "plt.xticks(rotation=45)\n",
    "plt.show()"
   ]
  },
  {
   "cell_type": "code",
   "execution_count": 110,
   "metadata": {},
   "outputs": [
    {
     "data": {
      "text/html": [
       "<div>\n",
       "<style scoped>\n",
       "    .dataframe tbody tr th:only-of-type {\n",
       "        vertical-align: middle;\n",
       "    }\n",
       "\n",
       "    .dataframe tbody tr th {\n",
       "        vertical-align: top;\n",
       "    }\n",
       "\n",
       "    .dataframe thead th {\n",
       "        text-align: right;\n",
       "    }\n",
       "</style>\n",
       "<table border=\"1\" class=\"dataframe\">\n",
       "  <thead>\n",
       "    <tr style=\"text-align: right;\">\n",
       "      <th></th>\n",
       "      <th>averageRating</th>\n",
       "      <th>numVotes</th>\n",
       "    </tr>\n",
       "  </thead>\n",
       "  <tbody>\n",
       "    <tr>\n",
       "      <th>averageRating</th>\n",
       "      <td>1.000000</td>\n",
       "      <td>0.012527</td>\n",
       "    </tr>\n",
       "    <tr>\n",
       "      <th>numVotes</th>\n",
       "      <td>0.012527</td>\n",
       "      <td>1.000000</td>\n",
       "    </tr>\n",
       "  </tbody>\n",
       "</table>\n",
       "</div>"
      ],
      "text/plain": [
       "               averageRating  numVotes\n",
       "averageRating       1.000000  0.012527\n",
       "numVotes            0.012527  1.000000"
      ]
     },
     "execution_count": 110,
     "metadata": {},
     "output_type": "execute_result"
    }
   ],
   "source": [
    "dfimdb.corr()"
   ]
  },
  {
   "cell_type": "code",
   "execution_count": 137,
   "metadata": {},
   "outputs": [
    {
     "data": {
      "image/png": "[encoded data removed]",
      "text/plain": [
       "<Figure size 432x288 with 1 Axes>"
      ]
     },
     "metadata": {},
     "output_type": "display_data"
    }
   ],
   "source": [
    "plt.scatter(dfimdb[\"numVotes\"], dfimdb[\"averageRating\"])\n",
    "plt.xticks(rotation=45)\n",
    "plt.show()"
   ]
  },
  {
   "cell_type": "code",
   "execution_count": 144,
   "metadata": {},
   "outputs": [
    {
     "name": "stdout",
     "output_type": "stream",
     "text": [
      "It looks as if SF film locations have a slightly lower average rating compared to non sf film locations. The Average rating of SF filmed media is about 6.7 where the average media of non SF filmed media is about 6.9. There is no correlation between the number of votes and the average rating that media recives. I wanted to find if there was a significant difference between ratings and film locations. From what I can see location doesnt have significant impact on ratings and the number of people who have voted also doesnt affect the outcome of the rating.\n"
     ]
    }
   ],
   "source": [
    "print(\"It looks as if SF film locations have a slightly lower average rating compared to non sf film locations. The Average rating of SF filmed media is about 6.7 where the average media of non SF filmed media is about 6.9. There is no correlation between the number of votes and the average rating that media recives. I wanted to find if there was a significant difference between ratings and film locations. From what I can see location doesnt have significant impact on ratings and the number of people who have voted also doesnt affect the outcome of the rating.\")"
   ]
  },
  {
   "cell_type": "code",
   "execution_count": null,
   "metadata": {},
   "outputs": [],
   "source": []
  }
 ],
 "metadata": {
  "kernelspec": {
   "display_name": "Python 3",
   "language": "python",
   "name": "python3"
  },
  "language_info": {
   "codemirror_mode": {
    "name": "ipython",
    "version": 3
   },
   "file_extension": ".py",
   "mimetype": "text/x-python",
   "name": "python",
   "nbconvert_exporter": "python",
   "pygments_lexer": "ipython3",
   "version": "3.6.5"
  }
 },
 "nbformat": 4,
 "nbformat_minor": 2
}
